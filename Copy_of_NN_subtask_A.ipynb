{
  "nbformat": 4,
  "nbformat_minor": 0,
  "metadata": {
    "colab": {
      "name": "Copy of NN_subtask_A.ipynb",
      "provenance": [],
      "collapsed_sections": [],
      "include_colab_link": true
    },
    "kernelspec": {
      "name": "python3",
      "display_name": "Python 3"
    },
    "accelerator": "GPU"
  },
  "cells": [
    {
      "cell_type": "markdown",
      "metadata": {
        "id": "view-in-github",
        "colab_type": "text"
      },
      "source": [
        "<a href=\"https://colab.research.google.com/github/viscory/semeval3108/blob/master/Copy_of_NN_subtask_A.ipynb\" target=\"_parent\"><img src=\"https://colab.research.google.com/assets/colab-badge.svg\" alt=\"Open In Colab\"/></a>"
      ]
    },
    {
      "cell_type": "code",
      "metadata": {
        "id": "n5dbbADb-wvZ",
        "colab_type": "code",
        "outputId": "fbfdc00a-feff-41ff-b0b1-489be2e7626e",
        "colab": {
          "base_uri": "https://localhost:8080/",
          "height": 80
        }
      },
      "source": [
        "import numpy as np\n",
        "import csv\n",
        "from tqdm import tqdm\n",
        "from sklearn.utils import shuffle\n",
        "import nltk\n",
        "import re\n",
        "import keras\n",
        "from keras.models import Sequential\n",
        "from keras.layers import Input, Dense, Embedding, Convolution1D, MaxPooling1D, MaxPooling2D, Convolution2D, LSTM, Reshape, Dropout, Flatten\n",
        "from keras import regularizers \n",
        "from sklearn.feature_extraction.text import TfidfVectorizer,CountVectorizer\n",
        "from sklearn.model_selection import train_test_split\n",
        "from sklearn.preprocessing import OneHotEncoder\n",
        "from keras.optimizers import Adam\n",
        "from tensorflow.python.keras.callbacks import EarlyStopping\n",
        "import seaborn as sn\n",
        "import pandas as pd\n",
        "import matplotlib.pyplot as plt\n",
        "from sklearn.metrics import classification_report"
      ],
      "execution_count": 0,
      "outputs": [
        {
          "output_type": "stream",
          "text": [
            "Using TensorFlow backend.\n"
          ],
          "name": "stderr"
        },
        {
          "output_type": "display_data",
          "data": {
            "text/html": [
              "<p style=\"color: red;\">\n",
              "The default version of TensorFlow in Colab will soon switch to TensorFlow 2.x.<br>\n",
              "We recommend you <a href=\"https://www.tensorflow.org/guide/migrate\" target=\"_blank\">upgrade</a> now \n",
              "or ensure your notebook will continue to use TensorFlow 1.x via the <code>%tensorflow_version 1.x</code> magic:\n",
              "<a href=\"https://colab.research.google.com/notebooks/tensorflow_version.ipynb\" target=\"_blank\">more info</a>.</p>\n"
            ],
            "text/plain": [
              "<IPython.core.display.HTML object>"
            ]
          },
          "metadata": {
            "tags": []
          }
        }
      ]
    },
    {
      "cell_type": "code",
      "metadata": {
        "id": "bMUkEtUY_BMz",
        "colab_type": "code",
        "outputId": "dd8051a2-57c1-4506-9c19-0b168f051070",
        "colab": {
          "base_uri": "https://localhost:8080/",
          "height": 122
        }
      },
      "source": [
        "from google.colab import drive\n",
        "drive.mount('/content/gdrive')"
      ],
      "execution_count": 0,
      "outputs": [
        {
          "output_type": "stream",
          "text": [
            "Go to this URL in a browser: https://accounts.google.com/o/oauth2/auth?client_id=947318989803-6bn6qk8qdgf4n4g3pfee6491hc0brc4i.apps.googleusercontent.com&redirect_uri=urn%3aietf%3awg%3aoauth%3a2.0%3aoob&response_type=code&scope=email%20https%3a%2f%2fwww.googleapis.com%2fauth%2fdocs.test%20https%3a%2f%2fwww.googleapis.com%2fauth%2fdrive%20https%3a%2f%2fwww.googleapis.com%2fauth%2fdrive.photos.readonly%20https%3a%2f%2fwww.googleapis.com%2fauth%2fpeopleapi.readonly\n",
            "\n",
            "Enter your authorization code:\n",
            "··········\n",
            "Mounted at /content/gdrive\n"
          ],
          "name": "stdout"
        }
      ]
    },
    {
      "cell_type": "code",
      "metadata": {
        "id": "U0wDqIgg_K_w",
        "colab_type": "code",
        "colab": {}
      },
      "source": [
        "#declare path\n",
        "path_to_project = '/content/gdrive/My Drive/ESTR project AI/OLIDv1.0/'\n",
        "path_to_data = path_to_project + 'olid-training-v1.0.tsv'"
      ],
      "execution_count": 0,
      "outputs": []
    },
    {
      "cell_type": "code",
      "metadata": {
        "id": "9Pery0ndB34Y",
        "colab_type": "code",
        "colab": {}
      },
      "source": [
        "#0 - Not offensive\n",
        "#1 - Offensive untargeted\n",
        "#2 - Offensive targeted indiviualds\n",
        "#3 - Offensive targeted groups \n",
        "#4 - Offensive targeted others\n",
        "def get_label(labels):\n",
        "  answer = 0\n",
        "  if labels[1] == 'UNT':\n",
        "    answer = 1\n",
        "  if labels[2] == 'IND':\n",
        "    answer = 2\n",
        "  if labels[2] == 'GRP':\n",
        "    answer = 3\n",
        "  if labels[2] == 'OTH':\n",
        "    answer = 4\n",
        "  return answer\n",
        "\n",
        "def convert(label, sub_task):\n",
        "  if sub_task == 'a':\n",
        "    return int(label > 0)\n",
        "  if sub_task == 'b':\n",
        "    return int(label > 1)\n",
        "  return label - 2\n",
        "\n",
        "def prepare_data(path,sub_task):\n",
        "  data=[]\n",
        "  labels=[]\n",
        "  with open(path,encoding='utf8') as file:\n",
        "    for i,line in enumerate(csv.reader(file,delimiter='\\t')):\n",
        "      if i == 0:\n",
        "        continue\n",
        "      data.append(line[1])\n",
        "      labels.append(convert(get_label(line[-3:]),sub_task))\n",
        "  return data,labels  \n",
        "\n",
        "def get_test_label(label,sub_task):\n",
        "  answer = 0\n",
        "  if sub_task == 'a':\n",
        "    if label == 'OFF':\n",
        "      answer = 1\n",
        "  if sub_task == 'b':\n",
        "    if label == 'TIN':\n",
        "      answer = 1\n",
        "  if sub_task == 'c':\n",
        "    if label == 'GRP':\n",
        "      answer = 1\n",
        "    if label == 'OTH':\n",
        "      answer = 2\n",
        "  return answer\n",
        "def get_test_data(sub_task):\n",
        "  data=[]\n",
        "  labels=[]\n",
        "  path_labels = path_to_project + 'labels-level' + sub_task + '.csv'\n",
        "  path_data = path_to_project + 'testset-level' + sub_task + '.tsv'\n",
        "  with open(path_data,encoding='utf8') as file:\n",
        "    for i,line in enumerate(csv.reader(file,delimiter='\\t')):\n",
        "      if i == 0:\n",
        "        continue\n",
        "      data.append(line[1])\n",
        "  with open(path_labels,encoding='utf8') as file:\n",
        "    for line in csv.reader(file):\n",
        "      labels.append(get_test_label(line[1],sub_task))\n",
        "      #labels.append(line[1])\n",
        "  return data,labels"
      ],
      "execution_count": 0,
      "outputs": []
    },
    {
      "cell_type": "code",
      "metadata": {
        "id": "1e-u1aaLYc27",
        "colab_type": "code",
        "outputId": "c6f0b17a-6cd1-4e14-889d-b281cf03dc22",
        "colab": {
          "base_uri": "https://localhost:8080/",
          "height": 170
        }
      },
      "source": [
        "#preprocessing dependencies\n",
        "nltk.download('punkt')\n",
        "nltk.download('stopwords')\n",
        "nltk.download('averaged_perceptron_tagger')\n",
        "nltk.download('wordnet')\n",
        "#preprocessing\n",
        "def tokenize(data):\n",
        "  answer = []\n",
        "  for text in data:\n",
        "    answer.append(nltk.word_tokenize(text.lower()))\n",
        "  return answer\n",
        "\n",
        "def stop_words(data):\n",
        "  answer = []\n",
        "  bad_words = set(nltk.corpus.stopwords.words('english'))\n",
        "  for text in data:\n",
        "    answer.append([x for x in text if not x in bad_words and not re.match(r\"[^a-zA-Z\\d\\s]+\", x) and x != 'user'])\n",
        "  return answer\n",
        "\n",
        "def get_tag(word):\n",
        "  tag = nltk.pos_tag([word])[0][1][0].upper()\n",
        "  tag_dict = {\"J\": nltk.corpus.wordnet.ADJ,\n",
        "                \"N\": nltk.corpus.wordnet.NOUN,\n",
        "                \"V\": nltk.corpus.wordnet.VERB,\n",
        "                \"R\": nltk.corpus.wordnet.ADV}\n",
        "  return tag_dict.get(tag, nltk.corpus.wordnet.NOUN)\n",
        "  \n",
        "def lemmatize(data):\n",
        "  answer = []      \n",
        "  lemmatizer = nltk.stem.WordNetLemmatizer()\n",
        "  for text in data:\n",
        "    answer.append([lemmatizer.lemmatize(x, pos=get_tag(x)) for x in text])\n",
        "  return answer\n",
        "  \n",
        "#Vectorization\n",
        "def count_vectorizer_len(data):\n",
        "  vectorizer = CountVectorizer()\n",
        "  converted_data = [' '.join(x) for x in data]\n",
        "  vectorizer.fit(converted_data)\n",
        "  return len(vectorizer.vocabulary_.keys())"
      ],
      "execution_count": 0,
      "outputs": [
        {
          "output_type": "stream",
          "text": [
            "[nltk_data] Downloading package punkt to /root/nltk_data...\n",
            "[nltk_data]   Unzipping tokenizers/punkt.zip.\n",
            "[nltk_data] Downloading package stopwords to /root/nltk_data...\n",
            "[nltk_data]   Unzipping corpora/stopwords.zip.\n",
            "[nltk_data] Downloading package averaged_perceptron_tagger to\n",
            "[nltk_data]     /root/nltk_data...\n",
            "[nltk_data]   Unzipping taggers/averaged_perceptron_tagger.zip.\n",
            "[nltk_data] Downloading package wordnet to /root/nltk_data...\n",
            "[nltk_data]   Unzipping corpora/wordnet.zip.\n"
          ],
          "name": "stdout"
        }
      ]
    },
    {
      "cell_type": "code",
      "metadata": {
        "id": "0cgvEFhxxw9w",
        "colab_type": "code",
        "colab": {}
      },
      "source": [
        "#preparing data to be compatibel with Neural networks\n",
        "def do_one_hot(data):\n",
        "  encoder = OneHotEncoder();\n",
        "  return encoder.fit_transform(np.array(data).reshape(-1,1)).toarray()\n",
        "def do_input_proc(data, len, longest_seq):\n",
        "  converted_data = [keras.preprocessing.text.one_hot(' '.join(x), len) for x in data]\n",
        "  return keras.preprocessing.sequence.pad_sequences(converted_data, maxlen=longest_seq, padding='post')\n",
        "def get_max_len(data):\n",
        "  answer = 0\n",
        "  for x in data:\n",
        "    answer = max(answer, len(x))\n",
        "  return answer"
      ],
      "execution_count": 0,
      "outputs": []
    },
    {
      "cell_type": "code",
      "metadata": {
        "id": "App7TmF4MxxX",
        "colab_type": "code",
        "colab": {}
      },
      "source": [
        "def plot_confusion(data, labels, model, classes=2):\n",
        "  predicted_labels = model.predict(data, batch_size=64)\n",
        "  mtx = np.zeros(shape=(classes,classes))\n",
        "  for i in range(0,len(predicted_labels)):\n",
        "    actual_label = np.argmax(labels[i])\n",
        "    predicted_label = np.argmax(predicted_labels[i])\n",
        "    mtx[actual_label,predicted_label] += 1\n",
        "  norm = np.zeros(shape=(classes,classes))\n",
        "  for i in range(classes):\n",
        "    for j in range(classes):\n",
        "      norm[i][j] = mtx[i][j] / np.sum(mtx[i])\n",
        "  print(norm)\n",
        "  plt.imshow(mtx,cmap=plt.cm.ocean_r)\n",
        "  plt.title('Confusion matrix')\n",
        "  plt.colorbar()\n",
        "  marks = [x for x in ['NOT', 'OFF']]\n",
        "  plt.xlabel('Predicted Label')\n",
        "  plt.xticks(np.arange(classes), marks)\n",
        "  plt.ylabel('True Label')\n",
        "  plt.yticks(np.arange(classes), marks)\n",
        "  plt.tight_layout()\n",
        "  for (i, j), z in np.ndenumerate(mtx):\n",
        "    plt.text(j, i, int(z), ha='center', va='center')\n",
        "  plt.show()\n",
        "def do_analysis(test_data, test_labels, model):\n",
        "  predicted_labels = model.predict(test_data, batch_size=64)\n",
        "  y_true = np.argmax(test_labels, axis = 1)\n",
        "  y_pred = np.argmax(predicted_labels, axis = 1)\n",
        "  print(classification_report(y_true, y_pred))\n",
        "  plot_confusion(test_data, test_labels, model, 2)"
      ],
      "execution_count": 0,
      "outputs": []
    },
    {
      "cell_type": "code",
      "metadata": {
        "id": "bWzRzfGyBXKp",
        "colab_type": "code",
        "outputId": "ed7aa826-31f4-4b53-d0fe-b2bedbc9f9fc",
        "colab": {
          "base_uri": "https://localhost:8080/",
          "height": 241
        }
      },
      "source": [
        "data,labels = prepare_data(path_to_data,'a')\n",
        "test_data,test_labels = get_test_data('a')\n",
        "data = lemmatize(stop_words(tokenize(data)))\n",
        "test_data = lemmatize(stop_words(tokenize(test_data)))\n",
        "vocab_length = count_vectorizer_len(data)\n",
        "longest_seq = max(get_max_len(data),get_max_len(test_data))\n",
        "#convert data to work with NN\n",
        "train_data, val_data, train_labels, val_labels = train_test_split(np.array(data),labels, test_size=0.35,stratify=labels)\n",
        "train_labels = do_one_hot(train_labels)\n",
        "val_labels = do_one_hot(val_labels)\n",
        "test_labels = do_one_hot(test_labels)\n",
        "train_data = do_input_proc(train_data, vocab_length, longest_seq)\n",
        "val_data = do_input_proc(val_data, vocab_length, longest_seq)\n",
        "test_data = do_input_proc(test_data, vocab_length, longest_seq)"
      ],
      "execution_count": 0,
      "outputs": [
        {
          "output_type": "stream",
          "text": [
            "/usr/local/lib/python3.6/dist-packages/sklearn/preprocessing/_encoders.py:415: FutureWarning: The handling of integer data will change in version 0.22. Currently, the categories are determined based on the range [0, max(values)], while in the future they will be determined based on the unique values.\n",
            "If you want the future behaviour and silence this warning, you can specify \"categories='auto'\".\n",
            "In case you used a LabelEncoder before this OneHotEncoder to convert the categories to integers, then you can now use the OneHotEncoder directly.\n",
            "  warnings.warn(msg, FutureWarning)\n",
            "/usr/local/lib/python3.6/dist-packages/sklearn/preprocessing/_encoders.py:415: FutureWarning: The handling of integer data will change in version 0.22. Currently, the categories are determined based on the range [0, max(values)], while in the future they will be determined based on the unique values.\n",
            "If you want the future behaviour and silence this warning, you can specify \"categories='auto'\".\n",
            "In case you used a LabelEncoder before this OneHotEncoder to convert the categories to integers, then you can now use the OneHotEncoder directly.\n",
            "  warnings.warn(msg, FutureWarning)\n",
            "/usr/local/lib/python3.6/dist-packages/sklearn/preprocessing/_encoders.py:415: FutureWarning: The handling of integer data will change in version 0.22. Currently, the categories are determined based on the range [0, max(values)], while in the future they will be determined based on the unique values.\n",
            "If you want the future behaviour and silence this warning, you can specify \"categories='auto'\".\n",
            "In case you used a LabelEncoder before this OneHotEncoder to convert the categories to integers, then you can now use the OneHotEncoder directly.\n",
            "  warnings.warn(msg, FutureWarning)\n"
          ],
          "name": "stderr"
        }
      ]
    },
    {
      "cell_type": "code",
      "metadata": {
        "id": "W9r-p3QZZiK5",
        "colab_type": "code",
        "outputId": "06327ca2-c462-41dd-8600-9b450a089d24",
        "colab": {
          "base_uri": "https://localhost:8080/",
          "height": 289
        }
      },
      "source": [
        "# lstm model\n",
        "lstm = Sequential()\n",
        "lstm.add(Embedding(vocab_length, 30, input_length=longest_seq))\n",
        "lstm.add(Dropout(0.5))\n",
        "lstm.add(LSTM(100))\n",
        "#lstm.add(Dense(longest_seq, activation='relu', W_regularizer=regularizers.l2(0.90))) , W_regularizer=regularizers.l2(0.1))\n",
        "lstm.add(Dense(train_labels.shape[1], activation='softmax'))\n",
        "madam = Adam(lr=0.008)\n",
        "lstm.compile(loss='categorical_crossentropy', optimizer='adam',metrics=['accuracy'])\n",
        "lstm.summary()\n",
        "early_stopping = EarlyStopping(monitor='val_acc', patience=5)"
      ],
      "execution_count": 0,
      "outputs": [
        {
          "output_type": "stream",
          "text": [
            "Model: \"sequential_5\"\n",
            "_________________________________________________________________\n",
            "Layer (type)                 Output Shape              Param #   \n",
            "=================================================================\n",
            "embedding_5 (Embedding)      (None, 44, 30)            472380    \n",
            "_________________________________________________________________\n",
            "dropout_5 (Dropout)          (None, 44, 30)            0         \n",
            "_________________________________________________________________\n",
            "lstm_4 (LSTM)                (None, 100)               52400     \n",
            "_________________________________________________________________\n",
            "dense_7 (Dense)              (None, 2)                 202       \n",
            "=================================================================\n",
            "Total params: 524,982\n",
            "Trainable params: 524,982\n",
            "Non-trainable params: 0\n",
            "_________________________________________________________________\n"
          ],
          "name": "stdout"
        }
      ]
    },
    {
      "cell_type": "code",
      "metadata": {
        "id": "foB-iGHaIN7w",
        "colab_type": "code",
        "outputId": "c523142e-4bfd-4fa3-ca48-3aa6435a10da",
        "colab": {
          "base_uri": "https://localhost:8080/",
          "height": 221
        }
      },
      "source": [
        "lstm.fit(train_data, train_labels, batch_size=64,epochs=5,verbose=1,validation_data=(val_data,val_labels),callbacks=[early_stopping])"
      ],
      "execution_count": 0,
      "outputs": [
        {
          "output_type": "stream",
          "text": [
            "Train on 8606 samples, validate on 4634 samples\n",
            "Epoch 1/5\n",
            "8606/8606 [==============================] - 18s 2ms/step - loss: 0.6394 - acc: 0.6678 - val_loss: 0.6357 - val_acc: 0.6677\n",
            "Epoch 2/5\n",
            "8606/8606 [==============================] - 17s 2ms/step - loss: 0.6372 - acc: 0.6677 - val_loss: 0.6370 - val_acc: 0.6677\n",
            "Epoch 3/5\n",
            "8606/8606 [==============================] - 17s 2ms/step - loss: 0.6367 - acc: 0.6677 - val_loss: 0.6353 - val_acc: 0.6677\n",
            "Epoch 4/5\n",
            "8606/8606 [==============================] - 17s 2ms/step - loss: 0.5573 - acc: 0.7264 - val_loss: 0.6228 - val_acc: 0.7268\n",
            "Epoch 5/5\n",
            "8606/8606 [==============================] - 17s 2ms/step - loss: 0.4347 - acc: 0.8136 - val_loss: 0.5415 - val_acc: 0.7393\n"
          ],
          "name": "stdout"
        },
        {
          "output_type": "execute_result",
          "data": {
            "text/plain": [
              "<keras.callbacks.History at 0x7f93ed5426d8>"
            ]
          },
          "metadata": {
            "tags": []
          },
          "execution_count": 24
        }
      ]
    },
    {
      "cell_type": "code",
      "metadata": {
        "id": "WLxnyIaTJVCs",
        "colab_type": "code",
        "outputId": "61933809-11af-4130-ee59-6903f356db6e",
        "colab": {
          "base_uri": "https://localhost:8080/",
          "height": 51
        }
      },
      "source": [
        "print(lstm.metrics_names, lstm.evaluate(test_data, test_labels, batch_size=64, verbose=1))"
      ],
      "execution_count": 0,
      "outputs": [
        {
          "output_type": "stream",
          "text": [
            "860/860 [==============================] - 1s 631us/step\n",
            "['loss', 'acc'] [0.4850301146507263, 0.7709302320036777]\n"
          ],
          "name": "stdout"
        }
      ]
    },
    {
      "cell_type": "code",
      "metadata": {
        "id": "vDYlvIJ8Orwh",
        "colab_type": "code",
        "outputId": "2ee86757-a09a-4914-a1db-1ce76f9afb59",
        "colab": {
          "base_uri": "https://localhost:8080/",
          "height": 484
        }
      },
      "source": [
        "do_analysis(test_data, test_labels, lstm)"
      ],
      "execution_count": 0,
      "outputs": [
        {
          "output_type": "stream",
          "text": [
            "              precision    recall  f1-score   support\n",
            "\n",
            "           0       0.84      0.84      0.84       620\n",
            "           1       0.59      0.60      0.59       240\n",
            "\n",
            "    accuracy                           0.77       860\n",
            "   macro avg       0.72      0.72      0.72       860\n",
            "weighted avg       0.77      0.77      0.77       860\n",
            "\n",
            "[[0.83709677 0.16290323]\n",
            " [0.4        0.6       ]]\n"
          ],
          "name": "stdout"
        },
        {
          "output_type": "display_data",
          "data": {
            "image/png": "[encoded data removed]",
            "text/plain": [
              "<Figure size 432x288 with 2 Axes>"
            ]
          },
          "metadata": {
            "tags": []
          }
        }
      ]
    },
    {
      "cell_type": "code",
      "metadata": {
        "id": "gKY7TG9sH7HZ",
        "colab_type": "code",
        "outputId": "997162ae-1a8d-43f5-f44d-2b0979c90dcf",
        "colab": {
          "base_uri": "https://localhost:8080/",
          "height": 323
        }
      },
      "source": [
        "# lstm model\n",
        "lstm_complex = Sequential()\n",
        "lstm_complex.add(Embedding(vocab_length, 30, input_length=longest_seq))\n",
        "#lstm_complex.add(Dropout(0.4))\n",
        "lstm_complex.add(LSTM(50))\n",
        "lstm_complex.add(Dense(longest_seq, activation='relu'))\n",
        "lstm_complex.add(Dropout(0.75))\n",
        "lstm_complex.add(Dense(train_labels.shape[1], activation='sigmoid'))\n",
        "#madam = Adam(lr=0.008)\n",
        "lstm_complex.compile(loss='categorical_crossentropy', optimizer='adam',metrics=['accuracy'])\n",
        "lstm_complex.summary()"
      ],
      "execution_count": 0,
      "outputs": [
        {
          "output_type": "stream",
          "text": [
            "Model: \"sequential_12\"\n",
            "_________________________________________________________________\n",
            "Layer (type)                 Output Shape              Param #   \n",
            "=================================================================\n",
            "embedding_12 (Embedding)     (None, 44, 30)            472380    \n",
            "_________________________________________________________________\n",
            "lstm_11 (LSTM)               (None, 50)                16200     \n",
            "_________________________________________________________________\n",
            "dense_20 (Dense)             (None, 44)                2244      \n",
            "_________________________________________________________________\n",
            "dropout_18 (Dropout)         (None, 44)                0         \n",
            "_________________________________________________________________\n",
            "dense_21 (Dense)             (None, 2)                 90        \n",
            "=================================================================\n",
            "Total params: 490,914\n",
            "Trainable params: 490,914\n",
            "Non-trainable params: 0\n",
            "_________________________________________________________________\n"
          ],
          "name": "stdout"
        }
      ]
    },
    {
      "cell_type": "code",
      "metadata": {
        "id": "bIupfnzheuKB",
        "colab_type": "code",
        "outputId": "38fc0c0b-0937-466e-9c61-af09fd2362f6",
        "colab": {
          "base_uri": "https://localhost:8080/",
          "height": 221
        }
      },
      "source": [
        "early_stopping = EarlyStopping(monitor='val_loss', patience=2)\n",
        "lstm_complex.fit(train_data, train_labels, batch_size=64,epochs=8,verbose=1,validation_data=(val_data,val_labels),callbacks=[early_stopping])"
      ],
      "execution_count": 0,
      "outputs": [
        {
          "output_type": "stream",
          "text": [
            "Train on 8606 samples, validate on 4634 samples\n",
            "Epoch 1/8\n",
            "8606/8606 [==============================] - 20s 2ms/step - loss: 0.6506 - acc: 0.6666 - val_loss: 0.6375 - val_acc: 0.6677\n",
            "Epoch 2/8\n",
            "8606/8606 [==============================] - 16s 2ms/step - loss: 0.6018 - acc: 0.7011 - val_loss: 0.5530 - val_acc: 0.7128\n",
            "Epoch 3/8\n",
            "8606/8606 [==============================] - 16s 2ms/step - loss: 0.4582 - acc: 0.8144 - val_loss: 0.5432 - val_acc: 0.7393\n",
            "Epoch 4/8\n",
            "8606/8606 [==============================] - 16s 2ms/step - loss: 0.3657 - acc: 0.8695 - val_loss: 0.5896 - val_acc: 0.7391\n",
            "Epoch 5/8\n",
            "8606/8606 [==============================] - 16s 2ms/step - loss: 0.3093 - acc: 0.8960 - val_loss: 0.5961 - val_acc: 0.7352\n"
          ],
          "name": "stdout"
        },
        {
          "output_type": "execute_result",
          "data": {
            "text/plain": [
              "<keras.callbacks.History at 0x7f93eb405f98>"
            ]
          },
          "metadata": {
            "tags": []
          },
          "execution_count": 52
        }
      ]
    },
    {
      "cell_type": "code",
      "metadata": {
        "id": "7SCbTzzcgDwt",
        "colab_type": "code",
        "outputId": "c05c3b74-796f-4c8e-9477-af73670f6139",
        "colab": {
          "base_uri": "https://localhost:8080/",
          "height": 51
        }
      },
      "source": [
        "print(lstm_complex.metrics_names, lstm_complex.evaluate(test_data, test_labels, batch_size=64, verbose=1))"
      ],
      "execution_count": 0,
      "outputs": [
        {
          "output_type": "stream",
          "text": [
            "860/860 [==============================] - 1s 626us/step\n",
            "['loss', 'acc'] [0.5510285197302353, 0.7697674426921578]\n"
          ],
          "name": "stdout"
        }
      ]
    },
    {
      "cell_type": "code",
      "metadata": {
        "id": "xf7tFaXXg2h-",
        "colab_type": "code",
        "outputId": "8341f16f-6804-407e-f537-b50f2e90a309",
        "colab": {
          "base_uri": "https://localhost:8080/",
          "height": 484
        }
      },
      "source": [
        "do_analysis(test_data, test_labels, lstm_complex)"
      ],
      "execution_count": 0,
      "outputs": [
        {
          "output_type": "stream",
          "text": [
            "              precision    recall  f1-score   support\n",
            "\n",
            "           0       0.82      0.87      0.85       620\n",
            "           1       0.60      0.51      0.55       240\n",
            "\n",
            "    accuracy                           0.77       860\n",
            "   macro avg       0.71      0.69      0.70       860\n",
            "weighted avg       0.76      0.77      0.76       860\n",
            "\n",
            "[[0.87096774 0.12903226]\n",
            " [0.49166667 0.50833333]]\n"
          ],
          "name": "stdout"
        },
        {
          "output_type": "display_data",
          "data": {
            "image/png": "[encoded data removed]",
            "text/plain": [
              "<Figure size 432x288 with 2 Axes>"
            ]
          },
          "metadata": {
            "tags": []
          }
        }
      ]
    },
    {
      "cell_type": "code",
      "metadata": {
        "id": "KqPKueZxIS0b",
        "colab_type": "code",
        "outputId": "9558bda2-63a3-4555-c038-7b48862001bb",
        "colab": {
          "base_uri": "https://localhost:8080/",
          "height": 649
        }
      },
      "source": [
        "cnn = Sequential()\n",
        "cnn.add(Embedding(vocab_length, 30, input_length=longest_seq))\n",
        "cnn.add(Reshape((30,longest_seq,1)))\n",
        "cnn.add(Convolution2D(32,(1,5),activation=\"relu\"))\n",
        "cnn.add(Dropout(0.9))\n",
        "cnn.add(Convolution2D(16,(2,3),activation=\"relu\"))\n",
        "cnn.add(Dropout(0.8))\n",
        "cnn.add(Convolution2D(16,(2,2),activation=\"relu\"))\n",
        "cnn.add(Dropout(0.7))\n",
        "cnn.add(Flatten())\n",
        "cnn.add(Dense(train_labels.shape[1],activation='softmax'))\n",
        "cnn.compile(loss='categorical_crossentropy', optimizer='adam',metrics=['accuracy'])\n",
        "cnn.summary()"
      ],
      "execution_count": 0,
      "outputs": [
        {
          "output_type": "stream",
          "text": [
            "WARNING:tensorflow:From /usr/local/lib/python3.6/dist-packages/keras/backend/tensorflow_backend.py:148: The name tf.placeholder_with_default is deprecated. Please use tf.compat.v1.placeholder_with_default instead.\n",
            "\n",
            "WARNING:tensorflow:From /usr/local/lib/python3.6/dist-packages/keras/backend/tensorflow_backend.py:3733: calling dropout (from tensorflow.python.ops.nn_ops) with keep_prob is deprecated and will be removed in a future version.\n",
            "Instructions for updating:\n",
            "Please use `rate` instead of `keep_prob`. Rate should be set to `rate = 1 - keep_prob`.\n",
            "WARNING:tensorflow:Large dropout rate: 0.9 (>0.5). In TensorFlow 2.x, dropout() uses dropout rate instead of keep_prob. Please ensure that this is intended.\n",
            "WARNING:tensorflow:Large dropout rate: 0.8 (>0.5). In TensorFlow 2.x, dropout() uses dropout rate instead of keep_prob. Please ensure that this is intended.\n",
            "WARNING:tensorflow:Large dropout rate: 0.7 (>0.5). In TensorFlow 2.x, dropout() uses dropout rate instead of keep_prob. Please ensure that this is intended.\n",
            "Model: \"sequential_3\"\n",
            "_________________________________________________________________\n",
            "Layer (type)                 Output Shape              Param #   \n",
            "=================================================================\n",
            "embedding_3 (Embedding)      (None, 44, 30)            472380    \n",
            "_________________________________________________________________\n",
            "reshape_1 (Reshape)          (None, 30, 44, 1)         0         \n",
            "_________________________________________________________________\n",
            "conv2d_1 (Conv2D)            (None, 30, 40, 32)        192       \n",
            "_________________________________________________________________\n",
            "dropout_1 (Dropout)          (None, 30, 40, 32)        0         \n",
            "_________________________________________________________________\n",
            "conv2d_2 (Conv2D)            (None, 29, 38, 16)        3088      \n",
            "_________________________________________________________________\n",
            "dropout_2 (Dropout)          (None, 29, 38, 16)        0         \n",
            "_________________________________________________________________\n",
            "conv2d_3 (Conv2D)            (None, 28, 37, 16)        1040      \n",
            "_________________________________________________________________\n",
            "dropout_3 (Dropout)          (None, 28, 37, 16)        0         \n",
            "_________________________________________________________________\n",
            "flatten_1 (Flatten)          (None, 16576)             0         \n",
            "_________________________________________________________________\n",
            "dense_5 (Dense)              (None, 2)                 33154     \n",
            "=================================================================\n",
            "Total params: 509,854\n",
            "Trainable params: 509,854\n",
            "Non-trainable params: 0\n",
            "_________________________________________________________________\n"
          ],
          "name": "stdout"
        }
      ]
    },
    {
      "cell_type": "code",
      "metadata": {
        "id": "QYygOoUcIYY7",
        "colab_type": "code",
        "outputId": "888b71b8-f6a6-462a-8dc0-39f3a330fc5e",
        "colab": {
          "base_uri": "https://localhost:8080/",
          "height": 255
        }
      },
      "source": [
        "early_stopping = EarlyStopping(monitor='val_acc', patience=5)\n",
        "cnn.fit(train_data, train_labels, batch_size=64,epochs=60,verbose=1,validation_data=(val_data,val_labels),callbacks=[early_stopping])"
      ],
      "execution_count": 0,
      "outputs": [
        {
          "output_type": "stream",
          "text": [
            "Train on 8606 samples, validate on 4634 samples\n",
            "Epoch 1/60\n",
            "8606/8606 [==============================] - 6s 672us/step - loss: 0.6398 - acc: 0.6657 - val_loss: 0.6783 - val_acc: 0.6677\n",
            "Epoch 2/60\n",
            "8606/8606 [==============================] - 2s 277us/step - loss: 0.6321 - acc: 0.6677 - val_loss: 0.6856 - val_acc: 0.6677\n",
            "Epoch 3/60\n",
            "8606/8606 [==============================] - 2s 279us/step - loss: 0.6029 - acc: 0.6770 - val_loss: 0.6710 - val_acc: 0.6474\n",
            "Epoch 4/60\n",
            "8606/8606 [==============================] - 2s 278us/step - loss: 0.5274 - acc: 0.7432 - val_loss: 0.6434 - val_acc: 0.6675\n",
            "Epoch 5/60\n",
            "8606/8606 [==============================] - 2s 277us/step - loss: 0.4548 - acc: 0.7804 - val_loss: 0.6430 - val_acc: 0.6422\n",
            "Epoch 6/60\n",
            "8606/8606 [==============================] - 2s 277us/step - loss: 0.3954 - acc: 0.8147 - val_loss: 0.6536 - val_acc: 0.6284\n"
          ],
          "name": "stdout"
        },
        {
          "output_type": "execute_result",
          "data": {
            "text/plain": [
              "<keras.callbacks.History at 0x7f9455516cc0>"
            ]
          },
          "metadata": {
            "tags": []
          },
          "execution_count": 17
        }
      ]
    },
    {
      "cell_type": "code",
      "metadata": {
        "id": "gmoNvZS8IaRc",
        "colab_type": "code",
        "outputId": "4127d760-f417-4ff2-aff9-7a43b75e8de1",
        "colab": {
          "base_uri": "https://localhost:8080/",
          "height": 51
        }
      },
      "source": [
        "cnn.evaluate(test_data, test_labels, batch_size=64, verbose=1)"
      ],
      "execution_count": 0,
      "outputs": [
        {
          "output_type": "stream",
          "text": [
            "860/860 [==============================] - 0s 137us/step\n"
          ],
          "name": "stdout"
        },
        {
          "output_type": "execute_result",
          "data": {
            "text/plain": [
              "[0.6114532922589502, 0.6627906973971877]"
            ]
          },
          "metadata": {
            "tags": []
          },
          "execution_count": 18
        }
      ]
    },
    {
      "cell_type": "code",
      "metadata": {
        "id": "AHsd1KSzQTL6",
        "colab_type": "code",
        "outputId": "67a0ed69-480d-4634-9659-d0be3cf94a0d",
        "colab": {
          "base_uri": "https://localhost:8080/",
          "height": 484
        }
      },
      "source": [
        "do_analysis(test_data, test_labels, cnn)"
      ],
      "execution_count": 0,
      "outputs": [
        {
          "output_type": "stream",
          "text": [
            "              precision    recall  f1-score   support\n",
            "\n",
            "           0       0.78      0.74      0.76       620\n",
            "           1       0.41      0.47      0.44       240\n",
            "\n",
            "    accuracy                           0.66       860\n",
            "   macro avg       0.60      0.60      0.60       860\n",
            "weighted avg       0.68      0.66      0.67       860\n",
            "\n",
            "[[0.73709677 0.26290323]\n",
            " [0.52916667 0.47083333]]\n"
          ],
          "name": "stdout"
        },
        {
          "output_type": "display_data",
          "data": {
            "image/png": "[encoded data removed]",
            "text/plain": [
              "<Figure size 432x288 with 2 Axes>"
            ]
          },
          "metadata": {
            "tags": []
          }
        }
      ]
    },
    {
      "cell_type": "code",
      "metadata": {
        "id": "BZgHaH2dZXqg",
        "colab_type": "code",
        "outputId": "567275ed-a90e-467d-e8bc-4d43ec855d65",
        "colab": {
          "base_uri": "https://localhost:8080/",
          "height": 561
        }
      },
      "source": [
        "cnn1 = Sequential()\n",
        "cnn1.add(Embedding(vocab_length, 30, input_length=longest_seq))\n",
        "cnn1.add(Reshape((30,longest_seq,1)))\n",
        "cnn1.add(Convolution2D(32,(1,5),activation=\"relu\"))\n",
        "cnn1.add(MaxPooling2D(pool_size=(2,2)))\n",
        "cnn1.add(Dropout(0.5))\n",
        "cnn1.add(Convolution2D(16,(2,3),activation=\"relu\"))\n",
        "cnn1.add(Dropout(0.5))\n",
        "cnn1.add(MaxPooling2D(pool_size=(2,2)))\n",
        "cnn1.add(Convolution2D(16,(2,2),activation=\"relu\"))\n",
        "cnn1.add(Dropout(0.6))\n",
        "cnn1.add(Flatten())\n",
        "cnn1.add(Dense(train_labels.shape[1],activation='sigmoid'))\n",
        "cnn1.compile(loss='categorical_crossentropy', optimizer='adam',metrics=['accuracy'])\n",
        "cnn1.summary()"
      ],
      "execution_count": 0,
      "outputs": [
        {
          "output_type": "stream",
          "text": [
            "Model: \"sequential_14\"\n",
            "_________________________________________________________________\n",
            "Layer (type)                 Output Shape              Param #   \n",
            "=================================================================\n",
            "embedding_14 (Embedding)     (None, 44, 30)            472380    \n",
            "_________________________________________________________________\n",
            "reshape_3 (Reshape)          (None, 30, 44, 1)         0         \n",
            "_________________________________________________________________\n",
            "conv2d_7 (Conv2D)            (None, 30, 40, 32)        192       \n",
            "_________________________________________________________________\n",
            "max_pooling2d_3 (MaxPooling2 (None, 15, 20, 32)        0         \n",
            "_________________________________________________________________\n",
            "dropout_22 (Dropout)         (None, 15, 20, 32)        0         \n",
            "_________________________________________________________________\n",
            "conv2d_8 (Conv2D)            (None, 14, 18, 16)        3088      \n",
            "_________________________________________________________________\n",
            "dropout_23 (Dropout)         (None, 14, 18, 16)        0         \n",
            "_________________________________________________________________\n",
            "max_pooling2d_4 (MaxPooling2 (None, 7, 9, 16)          0         \n",
            "_________________________________________________________________\n",
            "conv2d_9 (Conv2D)            (None, 6, 8, 16)          1040      \n",
            "_________________________________________________________________\n",
            "dropout_24 (Dropout)         (None, 6, 8, 16)          0         \n",
            "_________________________________________________________________\n",
            "flatten_3 (Flatten)          (None, 768)               0         \n",
            "_________________________________________________________________\n",
            "dense_23 (Dense)             (None, 2)                 1538      \n",
            "=================================================================\n",
            "Total params: 478,238\n",
            "Trainable params: 478,238\n",
            "Non-trainable params: 0\n",
            "_________________________________________________________________\n"
          ],
          "name": "stdout"
        }
      ]
    },
    {
      "cell_type": "code",
      "metadata": {
        "id": "TjR0XszWjocv",
        "colab_type": "code",
        "outputId": "7bb38178-2725-4ad9-eaef-e483f228c7da",
        "colab": {
          "base_uri": "https://localhost:8080/",
          "height": 255
        }
      },
      "source": [
        "early_stopping = EarlyStopping(monitor='val_loss', patience=2)\n",
        "cnn1.fit(train_data, train_labels, batch_size=64,epochs=60,verbose=1,validation_data=(val_data,val_labels),callbacks=[early_stopping])"
      ],
      "execution_count": 0,
      "outputs": [
        {
          "output_type": "stream",
          "text": [
            "Train on 8606 samples, validate on 4634 samples\n",
            "Epoch 1/60\n",
            "8606/8606 [==============================] - 6s 684us/step - loss: 0.6409 - acc: 0.6633 - val_loss: 0.6403 - val_acc: 0.6677\n",
            "Epoch 2/60\n",
            "8606/8606 [==============================] - 2s 213us/step - loss: 0.6373 - acc: 0.6677 - val_loss: 0.6438 - val_acc: 0.6677\n",
            "Epoch 3/60\n",
            "8606/8606 [==============================] - 2s 213us/step - loss: 0.6315 - acc: 0.6677 - val_loss: 0.6358 - val_acc: 0.6677\n",
            "Epoch 4/60\n",
            "8606/8606 [==============================] - 2s 215us/step - loss: 0.5576 - acc: 0.7139 - val_loss: 0.6057 - val_acc: 0.6770\n",
            "Epoch 5/60\n",
            "8606/8606 [==============================] - 2s 215us/step - loss: 0.4215 - acc: 0.8023 - val_loss: 0.6179 - val_acc: 0.6927\n",
            "Epoch 6/60\n",
            "8606/8606 [==============================] - 2s 214us/step - loss: 0.3070 - acc: 0.8677 - val_loss: 0.6711 - val_acc: 0.6577\n"
          ],
          "name": "stdout"
        },
        {
          "output_type": "execute_result",
          "data": {
            "text/plain": [
              "<keras.callbacks.History at 0x7f93eb297780>"
            ]
          },
          "metadata": {
            "tags": []
          },
          "execution_count": 58
        }
      ]
    },
    {
      "cell_type": "code",
      "metadata": {
        "id": "U5D-bMGQjtir",
        "colab_type": "code",
        "outputId": "88c9d214-f210-48c1-c907-68f4ce5155de",
        "colab": {
          "base_uri": "https://localhost:8080/",
          "height": 51
        }
      },
      "source": [
        "cnn1.evaluate(test_data, test_labels, batch_size=64, verbose=1)"
      ],
      "execution_count": 0,
      "outputs": [
        {
          "output_type": "stream",
          "text": [
            "860/860 [==============================] - 0s 91us/step\n"
          ],
          "name": "stdout"
        },
        {
          "output_type": "execute_result",
          "data": {
            "text/plain": [
              "[0.6208050087440845, 0.6941860470660898]"
            ]
          },
          "metadata": {
            "tags": []
          },
          "execution_count": 59
        }
      ]
    },
    {
      "cell_type": "code",
      "metadata": {
        "id": "vVZuKs5UkAj6",
        "colab_type": "code",
        "outputId": "1e517168-5e69-4261-a715-fb1bba446845",
        "colab": {
          "base_uri": "https://localhost:8080/",
          "height": 484
        }
      },
      "source": [
        "do_analysis(test_data, test_labels, cnn)"
      ],
      "execution_count": 0,
      "outputs": [
        {
          "output_type": "stream",
          "text": [
            "              precision    recall  f1-score   support\n",
            "\n",
            "           0       0.78      0.74      0.76       620\n",
            "           1       0.41      0.47      0.44       240\n",
            "\n",
            "    accuracy                           0.66       860\n",
            "   macro avg       0.60      0.60      0.60       860\n",
            "weighted avg       0.68      0.66      0.67       860\n",
            "\n",
            "[[0.73709677 0.26290323]\n",
            " [0.52916667 0.47083333]]\n"
          ],
          "name": "stdout"
        },
        {
          "output_type": "display_data",
          "data": {
            "image/png": "[encoded data removed]",
            "text/plain": [
              "<Figure size 432x288 with 2 Axes>"
            ]
          },
          "metadata": {
            "tags": []
          }
        }
      ]
    },
    {
      "cell_type": "code",
      "metadata": {
        "id": "XN-f7wGBkCaW",
        "colab_type": "code",
        "colab": {}
      },
      "source": [
        ""
      ],
      "execution_count": 0,
      "outputs": []
    }
  ]
}